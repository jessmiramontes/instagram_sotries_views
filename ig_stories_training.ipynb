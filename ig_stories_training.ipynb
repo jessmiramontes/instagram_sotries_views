{
 "cells": [
  {
   "cell_type": "markdown",
   "metadata": {},
   "source": [
    "## We have the dataset ready, needs further clean up. After this I will train different models to find which is the best."
   ]
  }
 ],
 "metadata": {
  "language_info": {
   "name": "python"
  }
 },
 "nbformat": 4,
 "nbformat_minor": 2
}
