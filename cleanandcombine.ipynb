{
 "cells": [
  {
   "cell_type": "markdown",
   "metadata": {},
   "source": [
    "**aaa**"
   ]
  },
  {
   "cell_type": "code",
   "execution_count": 1,
   "metadata": {},
   "outputs": [],
   "source": [
    "import pandas as pd\n",
    "from datetime import datetime"
   ]
  },
  {
   "cell_type": "code",
   "execution_count": 18,
   "metadata": {},
   "outputs": [],
   "source": [
    "# Load Datasets\n",
    "df_analytics = pd.read_csv(\"datasets/archivo_combinado_updated.csv\")\n",
    "df_images = pd.read_csv(\"datasets/imagedataFINAL27022025.csv\")"
   ]
  },
  {
   "cell_type": "code",
   "execution_count": 19,
   "metadata": {},
   "outputs": [
    {
     "name": "stdout",
     "output_type": "stream",
     "text": [
      "<class 'pandas.core.frame.DataFrame'>\n",
      "RangeIndex: 274 entries, 0 to 273\n",
      "Data columns (total 5 columns):\n",
      " #   Column            Non-Null Count  Dtype \n",
      "---  ------            --------------  ----- \n",
      " 0   nombre_archivo    274 non-null    object\n",
      " 1   fecha             274 non-null    object\n",
      " 2   objeto_principal  274 non-null    object\n",
      " 3   color_dominante   274 non-null    object\n",
      " 4   emocion_primaria  274 non-null    object\n",
      "dtypes: object(5)\n",
      "memory usage: 10.8+ KB\n"
     ]
    }
   ],
   "source": [
    "df_images.info()"
   ]
  },
  {
   "cell_type": "code",
   "execution_count": 4,
   "metadata": {},
   "outputs": [
    {
     "name": "stdout",
     "output_type": "stream",
     "text": [
      "<class 'pandas.core.frame.DataFrame'>\n",
      "RangeIndex: 702 entries, 0 to 701\n",
      "Data columns (total 22 columns):\n",
      " #   Column                           Non-Null Count  Dtype  \n",
      "---  ------                           --------------  -----  \n",
      " 0   Identificador de la publicación  702 non-null    int64  \n",
      " 1   Identificador de la cuenta       702 non-null    int64  \n",
      " 2   Nombre de usuario de la cuenta   702 non-null    object \n",
      " 3   Nombre de la cuenta              702 non-null    object \n",
      " 4   Descripción                      302 non-null    object \n",
      " 5   Duración (segundos)              702 non-null    int64  \n",
      " 6   Hora de publicación              702 non-null    object \n",
      " 7   Enlace permanente                13 non-null     object \n",
      " 8   Tipo de publicación              702 non-null    object \n",
      " 9   Comentario sobre los datos       0 non-null      float64\n",
      " 10  Fecha                            702 non-null    object \n",
      " 11  Alcance                          642 non-null    float64\n",
      " 12  Me gusta                         702 non-null    int64  \n",
      " 13  Veces que se compartió           702 non-null    int64  \n",
      " 14  Visitas al perfil                527 non-null    float64\n",
      " 15  Respuestas                       702 non-null    int64  \n",
      " 16  Navegación                       637 non-null    float64\n",
      " 17  Clics en el enlace               25 non-null     float64\n",
      " 18  Seguimientos                     24 non-null     float64\n",
      " 19  Toques en stickers               24 non-null     float64\n",
      " 20  Visualizaciones                  123 non-null    float64\n",
      " 21  sentimiento                      702 non-null    float64\n",
      "dtypes: float64(9), int64(6), object(7)\n",
      "memory usage: 120.8+ KB\n"
     ]
    }
   ],
   "source": [
    "df_analytics.info()"
   ]
  },
  {
   "cell_type": "code",
   "execution_count": 5,
   "metadata": {},
   "outputs": [
    {
     "name": "stdout",
     "output_type": "stream",
     "text": [
      "<class 'pandas.core.frame.DataFrame'>\n",
      "RangeIndex: 702 entries, 0 to 701\n",
      "Data columns (total 22 columns):\n",
      " #   Column                           Non-Null Count  Dtype  \n",
      "---  ------                           --------------  -----  \n",
      " 0   identificador_de_la_publicacion  702 non-null    int64  \n",
      " 1   identificador_de_la_cuenta       702 non-null    int64  \n",
      " 2   nombre_de_usuario_de_la_cuenta   702 non-null    object \n",
      " 3   nombre_de_la_cuenta              702 non-null    object \n",
      " 4   descripcion                      302 non-null    object \n",
      " 5   duracion_segundos                702 non-null    int64  \n",
      " 6   hora_de_publicacion              702 non-null    object \n",
      " 7   enlace_permanente                13 non-null     object \n",
      " 8   tipo_de_publicacion              702 non-null    object \n",
      " 9   comentario_sobre_los_datos       0 non-null      float64\n",
      " 10  fecha                            702 non-null    object \n",
      " 11  alcance                          642 non-null    float64\n",
      " 12  me_gusta                         702 non-null    int64  \n",
      " 13  veces_que_se_compartio           702 non-null    int64  \n",
      " 14  visitas_al_perfil                527 non-null    float64\n",
      " 15  respuestas                       702 non-null    int64  \n",
      " 16  navegacion                       637 non-null    float64\n",
      " 17  clics_en_el_enlace               25 non-null     float64\n",
      " 18  seguimientos                     24 non-null     float64\n",
      " 19  toques_en_stickers               24 non-null     float64\n",
      " 20  visualizaciones                  123 non-null    float64\n",
      " 21  sentimiento                      702 non-null    float64\n",
      "dtypes: float64(9), int64(6), object(7)\n",
      "memory usage: 120.8+ KB\n"
     ]
    }
   ],
   "source": [
    " #Step 2. Prepare the dataset for analysis\n",
    "df_interim = (\n",
    "    df_analytics\n",
    "    .copy()\n",
    "    .set_axis(\n",
    "        df_analytics.columns.str.replace(' ', '_') # reemplazar espacio por _\n",
    "        .str.replace('á', 'a') # reemplazar\n",
    "        .str.replace('é', 'e') # reemplazar\n",
    "        .str.replace('í', 'i') # reemplazar\n",
    "        .str.replace('ó', 'o') # reemplazar\n",
    "        .str.replace('ú', 'u') # reemplazar\n",
    "        .str.replace(r'\\W','',regex=True) # reemplazar caracteres no alfabéticos por nada\n",
    "        .str.lower() # el resultado lo pasamos a minúsculas\n",
    "        .str.slice(0,40), axis=1, # slice sirve para cortar el texto a un máximo de 40 caracteres\n",
    "    )\n",
    "    \n",
    "\n",
    ")\n",
    "df_interim.info()"
   ]
  },
  {
   "cell_type": "code",
   "execution_count": 6,
   "metadata": {},
   "outputs": [
    {
     "name": "stdout",
     "output_type": "stream",
     "text": [
      "<class 'pandas.core.frame.DataFrame'>\n",
      "RangeIndex: 702 entries, 0 to 701\n",
      "Data columns (total 21 columns):\n",
      " #   Column                          Non-Null Count  Dtype  \n",
      "---  ------                          --------------  -----  \n",
      " 0   identificador_de_la_cuenta      702 non-null    int64  \n",
      " 1   nombre_de_usuario_de_la_cuenta  702 non-null    object \n",
      " 2   nombre_de_la_cuenta             702 non-null    object \n",
      " 3   descripcion                     302 non-null    object \n",
      " 4   duracion_segundos               702 non-null    int64  \n",
      " 5   hora_de_publicacion             702 non-null    object \n",
      " 6   enlace_permanente               13 non-null     object \n",
      " 7   tipo_de_publicacion             702 non-null    object \n",
      " 8   comentario_sobre_los_datos      0 non-null      float64\n",
      " 9   fecha                           702 non-null    object \n",
      " 10  alcance                         642 non-null    float64\n",
      " 11  me_gusta                        702 non-null    int64  \n",
      " 12  veces_que_se_compartio          702 non-null    int64  \n",
      " 13  visitas_al_perfil               527 non-null    float64\n",
      " 14  respuestas                      702 non-null    int64  \n",
      " 15  navegacion                      637 non-null    float64\n",
      " 16  clics_en_el_enlace              25 non-null     float64\n",
      " 17  seguimientos                    24 non-null     float64\n",
      " 18  toques_en_stickers              24 non-null     float64\n",
      " 19  visualizaciones                 123 non-null    float64\n",
      " 20  sentimiento                     702 non-null    float64\n",
      "dtypes: float64(9), int64(5), object(7)\n",
      "memory usage: 115.3+ KB\n"
     ]
    }
   ],
   "source": [
    "df_interim.drop(\"identificador_de_la_publicacion\", axis=1, inplace=True)\n",
    "df_interim.info()"
   ]
  },
  {
   "cell_type": "code",
   "execution_count": 7,
   "metadata": {},
   "outputs": [
    {
     "name": "stdout",
     "output_type": "stream",
     "text": [
      "<class 'pandas.core.frame.DataFrame'>\n",
      "RangeIndex: 702 entries, 0 to 701\n",
      "Data columns (total 13 columns):\n",
      " #   Column                  Non-Null Count  Dtype  \n",
      "---  ------                  --------------  -----  \n",
      " 0   duracion_segundos       702 non-null    int64  \n",
      " 1   hora_de_publicacion     702 non-null    object \n",
      " 2   alcance                 642 non-null    float64\n",
      " 3   me_gusta                702 non-null    int64  \n",
      " 4   veces_que_se_compartio  702 non-null    int64  \n",
      " 5   visitas_al_perfil       527 non-null    float64\n",
      " 6   respuestas              702 non-null    int64  \n",
      " 7   navegacion              637 non-null    float64\n",
      " 8   clics_en_el_enlace      25 non-null     float64\n",
      " 9   seguimientos            24 non-null     float64\n",
      " 10  toques_en_stickers      24 non-null     float64\n",
      " 11  visualizaciones         123 non-null    float64\n",
      " 12  sentimiento             702 non-null    float64\n",
      "dtypes: float64(8), int64(4), object(1)\n",
      "memory usage: 71.4+ KB\n"
     ]
    }
   ],
   "source": [
    "df_interim.drop(\"identificador_de_la_cuenta\", axis=1, inplace=True)\n",
    "df_interim.drop(\"nombre_de_usuario_de_la_cuenta\", axis=1, inplace=True)\n",
    "df_interim.drop(\"nombre_de_la_cuenta\", axis=1, inplace=True)\n",
    "df_interim.drop(\"descripcion\", axis=1, inplace=True)\n",
    "df_interim.drop(\"enlace_permanente\", axis=1, inplace=True)\n",
    "df_interim.drop(\"tipo_de_publicacion\", axis=1, inplace=True)\n",
    "df_interim.drop(\"comentario_sobre_los_datos\", axis=1, inplace=True)\n",
    "df_interim.drop(\"fecha\", axis=1, inplace=True)\n",
    "\n",
    "df_interim.info()"
   ]
  },
  {
   "cell_type": "code",
   "execution_count": 8,
   "metadata": {},
   "outputs": [
    {
     "name": "stdout",
     "output_type": "stream",
     "text": [
      "<class 'pandas.core.frame.DataFrame'>\n",
      "RangeIndex: 702 entries, 0 to 701\n",
      "Data columns (total 13 columns):\n",
      " #   Column                  Non-Null Count  Dtype  \n",
      "---  ------                  --------------  -----  \n",
      " 0   hora_de_publicacion     702 non-null    object \n",
      " 1   duracion_segundos       702 non-null    int64  \n",
      " 2   alcance                 642 non-null    float64\n",
      " 3   me_gusta                702 non-null    int64  \n",
      " 4   veces_que_se_compartio  702 non-null    int64  \n",
      " 5   visitas_al_perfil       527 non-null    float64\n",
      " 6   respuestas              702 non-null    int64  \n",
      " 7   navegacion              637 non-null    float64\n",
      " 8   clics_en_el_enlace      25 non-null     float64\n",
      " 9   seguimientos            24 non-null     float64\n",
      " 10  toques_en_stickers      24 non-null     float64\n",
      " 11  visualizaciones         123 non-null    float64\n",
      " 12  sentimiento             702 non-null    float64\n",
      "dtypes: float64(8), int64(4), object(1)\n",
      "memory usage: 71.4+ KB\n"
     ]
    }
   ],
   "source": [
    "# 2.2 Create the final dataset with the target in front, show result\n",
    "df = (\n",
    "    df_interim\n",
    "    .copy()\n",
    "    .reindex(\n",
    "        columns=(\n",
    "            ['hora_de_publicacion'] +\n",
    "            [c for c in df_interim.columns.to_list() if c not in ['hora_de_publicacion']]\n",
    "        )\n",
    "    )\n",
    ")\n",
    "df.info()"
   ]
  },
  {
   "cell_type": "code",
   "execution_count": 9,
   "metadata": {},
   "outputs": [
    {
     "name": "stdout",
     "output_type": "stream",
     "text": [
      "  hora_de_publicacion  duracion_segundos  alcance  me_gusta  \\\n",
      "0    10/01/2023 10:04                  0   1989.0         7   \n",
      "1    12/31/2023 12:11                  5    527.0         6   \n",
      "2    12/31/2023 10:17                  0    750.0         4   \n",
      "3    12/29/2023 13:44                  0    555.0         8   \n",
      "4    12/29/2023 10:09                  0    841.0         3   \n",
      "\n",
      "   veces_que_se_compartio  visitas_al_perfil  respuestas  navegacion  \\\n",
      "0                       0                9.0           0      2019.0   \n",
      "1                       0                1.0           1       514.0   \n",
      "2                       0                3.0           0       762.0   \n",
      "3                       0                NaN           2       620.0   \n",
      "4                       0                3.0           0       840.0   \n",
      "\n",
      "   clics_en_el_enlace  seguimientos  toques_en_stickers  visualizaciones  \\\n",
      "0                 NaN           NaN                 NaN              NaN   \n",
      "1                 NaN           NaN                 NaN              NaN   \n",
      "2                 NaN           NaN                 NaN              NaN   \n",
      "3                76.0           NaN                 NaN              NaN   \n",
      "4                 NaN           NaN                 NaN              NaN   \n",
      "\n",
      "   sentimiento_score  \n",
      "0                0.0  \n",
      "1               -2.0  \n",
      "2                0.0  \n",
      "3               -2.0  \n",
      "4                0.0  \n"
     ]
    }
   ],
   "source": [
    "# Renombrar la columna 'sentimiento' a 'sentimiento_score'\n",
    "df.rename(columns={'sentimiento': 'sentimiento_score'}, inplace=True)\n",
    "\n",
    "# Mostrar el DataFrame con la columna renombrada\n",
    "print(df.head())"
   ]
  },
  {
   "cell_type": "code",
   "execution_count": 10,
   "metadata": {},
   "outputs": [
    {
     "name": "stdout",
     "output_type": "stream",
     "text": [
      "<class 'pandas.core.frame.DataFrame'>\n",
      "Index: 385 entries, 0 to 701\n",
      "Data columns (total 12 columns):\n",
      " #   Column                  Non-Null Count  Dtype  \n",
      "---  ------                  --------------  -----  \n",
      " 0   hora_de_publicacion     385 non-null    object \n",
      " 1   alcance                 359 non-null    float64\n",
      " 2   me_gusta                385 non-null    int64  \n",
      " 3   veces_que_se_compartio  385 non-null    int64  \n",
      " 4   visitas_al_perfil       302 non-null    float64\n",
      " 5   respuestas              385 non-null    int64  \n",
      " 6   navegacion              357 non-null    float64\n",
      " 7   clics_en_el_enlace      10 non-null     float64\n",
      " 8   seguimientos            10 non-null     float64\n",
      " 9   toques_en_stickers      16 non-null     float64\n",
      " 10  visualizaciones         91 non-null     float64\n",
      " 11  sentimiento_score       385 non-null    float64\n",
      "dtypes: float64(8), int64(3), object(1)\n",
      "memory usage: 39.1+ KB\n"
     ]
    }
   ],
   "source": [
    "# Eliminar las filas en las que la columna 'duracion_segundos' sea mayor a cero porque son videos y no los tengo en el dataset de imagenes\n",
    "df = df[df['duracion_segundos'] <= 0]\n",
    "\n",
    "# Eliminar la columna 'duracion_segundos'\n",
    "df.drop('duracion_segundos', axis=1, inplace=True)\n",
    "df.info()\n",
    "\n"
   ]
  },
  {
   "cell_type": "code",
   "execution_count": 11,
   "metadata": {},
   "outputs": [
    {
     "data": {
      "text/html": [
       "<div>\n",
       "<style scoped>\n",
       "    .dataframe tbody tr th:only-of-type {\n",
       "        vertical-align: middle;\n",
       "    }\n",
       "\n",
       "    .dataframe tbody tr th {\n",
       "        vertical-align: top;\n",
       "    }\n",
       "\n",
       "    .dataframe thead th {\n",
       "        text-align: right;\n",
       "    }\n",
       "</style>\n",
       "<table border=\"1\" class=\"dataframe\">\n",
       "  <thead>\n",
       "    <tr style=\"text-align: right;\">\n",
       "      <th></th>\n",
       "      <th>hora_de_publicacion</th>\n",
       "      <th>alcance</th>\n",
       "      <th>me_gusta</th>\n",
       "      <th>veces_que_se_compartio</th>\n",
       "      <th>visitas_al_perfil</th>\n",
       "      <th>respuestas</th>\n",
       "      <th>navegacion</th>\n",
       "      <th>clics_en_el_enlace</th>\n",
       "      <th>seguimientos</th>\n",
       "      <th>toques_en_stickers</th>\n",
       "      <th>visualizaciones</th>\n",
       "      <th>sentimiento_score</th>\n",
       "    </tr>\n",
       "  </thead>\n",
       "  <tbody>\n",
       "    <tr>\n",
       "      <th>0</th>\n",
       "      <td>10/01/2023 10:04</td>\n",
       "      <td>1989.0</td>\n",
       "      <td>7</td>\n",
       "      <td>0</td>\n",
       "      <td>9.0</td>\n",
       "      <td>0</td>\n",
       "      <td>2019.0</td>\n",
       "      <td>NaN</td>\n",
       "      <td>NaN</td>\n",
       "      <td>NaN</td>\n",
       "      <td>NaN</td>\n",
       "      <td>0.0</td>\n",
       "    </tr>\n",
       "    <tr>\n",
       "      <th>2</th>\n",
       "      <td>12/31/2023 10:17</td>\n",
       "      <td>750.0</td>\n",
       "      <td>4</td>\n",
       "      <td>0</td>\n",
       "      <td>3.0</td>\n",
       "      <td>0</td>\n",
       "      <td>762.0</td>\n",
       "      <td>NaN</td>\n",
       "      <td>NaN</td>\n",
       "      <td>NaN</td>\n",
       "      <td>NaN</td>\n",
       "      <td>0.0</td>\n",
       "    </tr>\n",
       "    <tr>\n",
       "      <th>3</th>\n",
       "      <td>12/29/2023 13:44</td>\n",
       "      <td>555.0</td>\n",
       "      <td>8</td>\n",
       "      <td>0</td>\n",
       "      <td>NaN</td>\n",
       "      <td>2</td>\n",
       "      <td>620.0</td>\n",
       "      <td>76.0</td>\n",
       "      <td>NaN</td>\n",
       "      <td>NaN</td>\n",
       "      <td>NaN</td>\n",
       "      <td>-2.0</td>\n",
       "    </tr>\n",
       "    <tr>\n",
       "      <th>4</th>\n",
       "      <td>12/29/2023 10:09</td>\n",
       "      <td>841.0</td>\n",
       "      <td>3</td>\n",
       "      <td>0</td>\n",
       "      <td>3.0</td>\n",
       "      <td>0</td>\n",
       "      <td>840.0</td>\n",
       "      <td>NaN</td>\n",
       "      <td>NaN</td>\n",
       "      <td>NaN</td>\n",
       "      <td>NaN</td>\n",
       "      <td>0.0</td>\n",
       "    </tr>\n",
       "    <tr>\n",
       "      <th>11</th>\n",
       "      <td>12/28/2023 07:21</td>\n",
       "      <td>401.0</td>\n",
       "      <td>1</td>\n",
       "      <td>0</td>\n",
       "      <td>4.0</td>\n",
       "      <td>0</td>\n",
       "      <td>389.0</td>\n",
       "      <td>NaN</td>\n",
       "      <td>NaN</td>\n",
       "      <td>NaN</td>\n",
       "      <td>NaN</td>\n",
       "      <td>-2.0</td>\n",
       "    </tr>\n",
       "  </tbody>\n",
       "</table>\n",
       "</div>"
      ],
      "text/plain": [
       "   hora_de_publicacion  alcance  me_gusta  veces_que_se_compartio  \\\n",
       "0     10/01/2023 10:04   1989.0         7                       0   \n",
       "2     12/31/2023 10:17    750.0         4                       0   \n",
       "3     12/29/2023 13:44    555.0         8                       0   \n",
       "4     12/29/2023 10:09    841.0         3                       0   \n",
       "11    12/28/2023 07:21    401.0         1                       0   \n",
       "\n",
       "    visitas_al_perfil  respuestas  navegacion  clics_en_el_enlace  \\\n",
       "0                 9.0           0      2019.0                 NaN   \n",
       "2                 3.0           0       762.0                 NaN   \n",
       "3                 NaN           2       620.0                76.0   \n",
       "4                 3.0           0       840.0                 NaN   \n",
       "11                4.0           0       389.0                 NaN   \n",
       "\n",
       "    seguimientos  toques_en_stickers  visualizaciones  sentimiento_score  \n",
       "0            NaN                 NaN              NaN                0.0  \n",
       "2            NaN                 NaN              NaN                0.0  \n",
       "3            NaN                 NaN              NaN               -2.0  \n",
       "4            NaN                 NaN              NaN                0.0  \n",
       "11           NaN                 NaN              NaN               -2.0  "
      ]
     },
     "execution_count": 11,
     "metadata": {},
     "output_type": "execute_result"
    }
   ],
   "source": [
    "# Mostrar el DataFrame resultante\n",
    "df.head()"
   ]
  },
  {
   "cell_type": "code",
   "execution_count": 12,
   "metadata": {},
   "outputs": [
    {
     "data": {
      "text/html": [
       "<div>\n",
       "<style scoped>\n",
       "    .dataframe tbody tr th:only-of-type {\n",
       "        vertical-align: middle;\n",
       "    }\n",
       "\n",
       "    .dataframe tbody tr th {\n",
       "        vertical-align: top;\n",
       "    }\n",
       "\n",
       "    .dataframe thead th {\n",
       "        text-align: right;\n",
       "    }\n",
       "</style>\n",
       "<table border=\"1\" class=\"dataframe\">\n",
       "  <thead>\n",
       "    <tr style=\"text-align: right;\">\n",
       "      <th></th>\n",
       "      <th>nombre_archivo</th>\n",
       "      <th>fecha</th>\n",
       "      <th>objeto_principal</th>\n",
       "      <th>color_dominante</th>\n",
       "      <th>emocion_primaria</th>\n",
       "    </tr>\n",
       "  </thead>\n",
       "  <tbody>\n",
       "    <tr>\n",
       "      <th>0</th>\n",
       "      <td>IMG_20231222_182937_798.jpg</td>\n",
       "      <td>2023-12-22</td>\n",
       "      <td>potter's_wheel</td>\n",
       "      <td>#4e4f66</td>\n",
       "      <td>happy</td>\n",
       "    </tr>\n",
       "    <tr>\n",
       "      <th>1</th>\n",
       "      <td>IMG_20231106_195856_513.webp</td>\n",
       "      <td>2023-11-06</td>\n",
       "      <td>swing</td>\n",
       "      <td>#42454e</td>\n",
       "      <td>happy</td>\n",
       "    </tr>\n",
       "    <tr>\n",
       "      <th>2</th>\n",
       "      <td>IMG_20231103_173639_881.webp</td>\n",
       "      <td>2023-11-03</td>\n",
       "      <td>corn</td>\n",
       "      <td>#656b7c</td>\n",
       "      <td>happy</td>\n",
       "    </tr>\n",
       "    <tr>\n",
       "      <th>3</th>\n",
       "      <td>IMG_20231102_210840_705.webp</td>\n",
       "      <td>2023-11-02</td>\n",
       "      <td>altar</td>\n",
       "      <td>#686977</td>\n",
       "      <td>fear</td>\n",
       "    </tr>\n",
       "    <tr>\n",
       "      <th>4</th>\n",
       "      <td>IMG_20230417_194119_473.jpg</td>\n",
       "      <td>2023-04-17</td>\n",
       "      <td>jersey</td>\n",
       "      <td>#c3718a</td>\n",
       "      <td>sad</td>\n",
       "    </tr>\n",
       "  </tbody>\n",
       "</table>\n",
       "</div>"
      ],
      "text/plain": [
       "                 nombre_archivo       fecha objeto_principal color_dominante  \\\n",
       "0   IMG_20231222_182937_798.jpg  2023-12-22   potter's_wheel         #4e4f66   \n",
       "1  IMG_20231106_195856_513.webp  2023-11-06            swing         #42454e   \n",
       "2  IMG_20231103_173639_881.webp  2023-11-03             corn         #656b7c   \n",
       "3  IMG_20231102_210840_705.webp  2023-11-02            altar         #686977   \n",
       "4   IMG_20230417_194119_473.jpg  2023-04-17           jersey         #c3718a   \n",
       "\n",
       "  emocion_primaria  \n",
       "0            happy  \n",
       "1            happy  \n",
       "2            happy  \n",
       "3             fear  \n",
       "4              sad  "
      ]
     },
     "execution_count": 12,
     "metadata": {},
     "output_type": "execute_result"
    }
   ],
   "source": [
    "df_images.head()"
   ]
  },
  {
   "cell_type": "code",
   "execution_count": 13,
   "metadata": {},
   "outputs": [
    {
     "name": "stdout",
     "output_type": "stream",
     "text": [
      "<class 'pandas.core.frame.DataFrame'>\n",
      "Index: 385 entries, 0 to 701\n",
      "Data columns (total 13 columns):\n",
      " #   Column                  Non-Null Count  Dtype         \n",
      "---  ------                  --------------  -----         \n",
      " 0   hora_de_publicacion     385 non-null    datetime64[ns]\n",
      " 1   alcance                 359 non-null    float64       \n",
      " 2   me_gusta                385 non-null    int64         \n",
      " 3   veces_que_se_compartio  385 non-null    int64         \n",
      " 4   visitas_al_perfil       302 non-null    float64       \n",
      " 5   respuestas              385 non-null    int64         \n",
      " 6   navegacion              357 non-null    float64       \n",
      " 7   clics_en_el_enlace      10 non-null     float64       \n",
      " 8   seguimientos            10 non-null     float64       \n",
      " 9   toques_en_stickers      16 non-null     float64       \n",
      " 10  visualizaciones         91 non-null     float64       \n",
      " 11  sentimiento_score       385 non-null    float64       \n",
      " 12  fecha                   385 non-null    datetime64[ns]\n",
      "dtypes: datetime64[ns](2), float64(8), int64(3)\n",
      "memory usage: 42.1 KB\n",
      "None\n"
     ]
    }
   ],
   "source": [
    "# Crear una función para convertir fechas y manejar formatos mixtos\n",
    "def convertir_fecha(fecha):\n",
    "    for fmt in ('%d/%m/%Y %H:%M', '%m/%d/%Y %H:%M'):\n",
    "        try:\n",
    "            return pd.to_datetime(fecha, format=fmt)\n",
    "        except ValueError:\n",
    "            continue\n",
    "    return pd.NaT\n",
    "\n",
    "# Aplicar la función de conversión a cada valor en la columna 'Hora de publicación'\n",
    "df['hora_de_publicacion'] = df['hora_de_publicacion'].apply(convertir_fecha)\n",
    "\n",
    "# Crear una columna 'fecha' basada en 'Hora de publicación'\n",
    "df['fecha'] = df['hora_de_publicacion'].dt.date\n",
    "\n",
    "# Asegurarse de que la columna 'fecha' sea del tipo datetime64[ns]\n",
    "df['fecha'] = pd.to_datetime(df['fecha'], errors='coerce')\n",
    "\n",
    "# Verificar los tipos de las columnas\n",
    "print(df.info())"
   ]
  },
  {
   "cell_type": "code",
   "execution_count": 14,
   "metadata": {},
   "outputs": [
    {
     "name": "stdout",
     "output_type": "stream",
     "text": [
      "<class 'pandas.core.frame.DataFrame'>\n",
      "RangeIndex: 211 entries, 0 to 210\n",
      "Data columns (total 5 columns):\n",
      " #   Column            Non-Null Count  Dtype         \n",
      "---  ------            --------------  -----         \n",
      " 0   nombre_archivo    211 non-null    object        \n",
      " 1   fecha             211 non-null    datetime64[ns]\n",
      " 2   objeto_principal  211 non-null    object        \n",
      " 3   color_dominante   211 non-null    object        \n",
      " 4   emocion_primaria  211 non-null    object        \n",
      "dtypes: datetime64[ns](1), object(4)\n",
      "memory usage: 8.4+ KB\n"
     ]
    }
   ],
   "source": [
    "# Asegurarse de que la columna 'fecha' sea del tipo datetime64[ns]\n",
    "df_images['fecha'] = pd.to_datetime(df_images['fecha'], errors='coerce')\n",
    "df_images.info()"
   ]
  },
  {
   "cell_type": "code",
   "execution_count": 90,
   "metadata": {},
   "outputs": [
    {
     "name": "stdout",
     "output_type": "stream",
     "text": [
      "  hora_de_publicacion  alcance  me_gusta  veces_que_se_compartio  \\\n",
      "0 2023-12-31 10:17:00    750.0         4                       0   \n",
      "1 2023-12-29 13:44:00    555.0         8                       0   \n",
      "2 2023-12-29 13:44:00    555.0         8                       0   \n",
      "3 2023-12-29 10:09:00    841.0         3                       0   \n",
      "4 2023-12-29 10:09:00    841.0         3                       0   \n",
      "\n",
      "   visitas_al_perfil  respuestas  navegacion  clics_en_el_enlace  \\\n",
      "0                3.0           0       762.0                 NaN   \n",
      "1                NaN           2       620.0                76.0   \n",
      "2                NaN           2       620.0                76.0   \n",
      "3                3.0           0       840.0                 NaN   \n",
      "4                3.0           0       840.0                 NaN   \n",
      "\n",
      "   seguimientos  toques_en_stickers  visualizaciones  sentimiento_score  \\\n",
      "0           NaN                 NaN              NaN                0.0   \n",
      "1           NaN                 NaN              NaN               -2.0   \n",
      "2           NaN                 NaN              NaN               -2.0   \n",
      "3           NaN                 NaN              NaN                0.0   \n",
      "4           NaN                 NaN              NaN                0.0   \n",
      "\n",
      "       fecha               nombre_archivo objeto_principal color_dominante  \\\n",
      "0 2023-12-31  img_20231231_121800_778.JPG         web_site         #251b23   \n",
      "1 2023-12-29  img_20231229_120935_441.JPG         web_site         #aa7f9f   \n",
      "2 2023-12-29  img_20231229_154437_750.JPG         web_site         #f3caea   \n",
      "3 2023-12-29  img_20231229_120935_441.JPG         web_site         #aa7f9f   \n",
      "4 2023-12-29  img_20231229_154437_750.JPG         web_site         #f3caea   \n",
      "\n",
      "  emocion_primaria  \n",
      "0            angry  \n",
      "1            happy  \n",
      "2             fear  \n",
      "3            happy  \n",
      "4             fear  \n"
     ]
    }
   ],
   "source": [
    "# Combinar los DataFrames basados en la columna 'fecha' y eliminar registros sin coincidencias\n",
    "df_combinado = df.merge(df_images, on='fecha', how='inner')\n",
    "\n",
    "# Mostrar el DataFrame combinado\n",
    "print(df_combinado.head())\n"
   ]
  },
  {
   "cell_type": "code",
   "execution_count": null,
   "metadata": {},
   "outputs": [],
   "source": [
    "# Descubrí que algunas entradas se duplicaron, entonces voy a borrarlas\n",
    "\n",
    "# Guardar el DataFrame combinado en un nuevo archivo CSV\n",
    "df_combinado.to_csv('final_datset.csv', index=False)"
   ]
  }
 ],
 "metadata": {
  "kernelspec": {
   "display_name": ".venv",
   "language": "python",
   "name": "python3"
  },
  "language_info": {
   "codemirror_mode": {
    "name": "ipython",
    "version": 3
   },
   "file_extension": ".py",
   "mimetype": "text/x-python",
   "name": "python",
   "nbconvert_exporter": "python",
   "pygments_lexer": "ipython3",
   "version": "3.12.1"
  }
 },
 "nbformat": 4,
 "nbformat_minor": 2
}
