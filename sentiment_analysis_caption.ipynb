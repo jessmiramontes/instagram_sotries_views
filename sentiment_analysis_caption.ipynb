{
 "cells": [
  {
   "cell_type": "markdown",
   "metadata": {},
   "source": [
    "**Update Feb 8: ** The sentiment analysis works but the original texts are all neutral so it won't have an impact of the predictions. However I will use it for now as a categorical value where \"0\" = Has captions and \"-2\" = \"no caption\".\n",
    "\n",
    "Doing this analysis made me realize that I have to write captions where emotions are present so my audience feels more conected."
   ]
  },
  {
   "cell_type": "code",
   "execution_count": 4,
   "metadata": {},
   "outputs": [
    {
     "name": "stderr",
     "output_type": "stream",
     "text": [
      "[nltk_data] Downloading package stopwords to\n",
      "[nltk_data]     /home/codespace/nltk_data...\n",
      "[nltk_data]   Package stopwords is already up-to-date!\n"
     ]
    }
   ],
   "source": [
    "import pandas as pd\n",
    "import numpy as np\n",
    "import matplotlib.pyplot as plt\n",
    "import seaborn as sns\n",
    "from sklearn.model_selection import train_test_split\n",
    "from sklearn.feature_extraction.text import (CountVectorizer, TfidfVectorizer)\n",
    "from sklearn.naive_bayes import (GaussianNB, MultinomialNB)\n",
    "import re \n",
    "import nltk \n",
    "from sklearn.metrics import (accuracy_score, ConfusionMatrixDisplay)\n",
    "from nltk.corpus import stopwords\n",
    "from nltk import ngrams\n",
    "nltk.download(\"stopwords\")\n",
    "stop_words = stopwords.words(\"spanish\") # stopwords palabras de relleno\n",
    "\n",
    "# Análisis de texto clásico ciertas palabras no añaden contexto y en base al resto de palabras podemos entender las relaciones que permitan hacer la clasficación\n",
    "# Función para quitar los stopwords del data frame\n",
    "def remove_stopwords(text):\n",
    "    clean_text = []\n",
    "    text = text.lower()\n",
    "    if text is not None:\n",
    "        words = text.split()\n",
    "        for word in words:\n",
    "            if word not in stop_words:\n",
    "                clean_text.append(word)\n",
    "        return \" \".join(clean_text)\n",
    "    else:\n",
    "        return None\n",
    "\n",
    "\n",
    "def remove_symbols(text):\n",
    "    if text is not None:\n",
    "        text = re.sub(r'''[.,?*&'\"+${}-]''','',text) # Sub sustituir \n",
    "        return text\n",
    "    else:\n",
    "        return None"
   ]
  },
  {
   "cell_type": "code",
   "execution_count": 5,
   "metadata": {},
   "outputs": [
    {
     "name": "stdout",
     "output_type": "stream",
     "text": [
      "<class 'pandas.core.frame.DataFrame'>\n",
      "RangeIndex: 702 entries, 0 to 701\n",
      "Data columns (total 21 columns):\n",
      " #   Column                           Non-Null Count  Dtype  \n",
      "---  ------                           --------------  -----  \n",
      " 0   identificador_de_la_publicacion  702 non-null    int64  \n",
      " 1   identificador_de_la_cuenta       702 non-null    int64  \n",
      " 2   nombre_de_usuario_de_la_cuenta   702 non-null    object \n",
      " 3   nombre_de_la_cuenta              702 non-null    object \n",
      " 4   descripcion                      302 non-null    object \n",
      " 5   duracion_segundos                702 non-null    int64  \n",
      " 6   hora_de_publicacion              702 non-null    object \n",
      " 7   enlace_permanente                13 non-null     object \n",
      " 8   tipo_de_publicacion              702 non-null    object \n",
      " 9   comentario_sobre_los_datos       0 non-null      float64\n",
      " 10  fecha                            702 non-null    object \n",
      " 11  alcance                          642 non-null    float64\n",
      " 12  me_gusta                         702 non-null    int64  \n",
      " 13  veces_que_se_compartio           702 non-null    int64  \n",
      " 14  visitas_al_perfil                527 non-null    float64\n",
      " 15  respuestas                       702 non-null    int64  \n",
      " 16  navegacion                       637 non-null    float64\n",
      " 17  clics_en_el_enlace               25 non-null     float64\n",
      " 18  seguimientos                     24 non-null     float64\n",
      " 19  toques_en_stickers               24 non-null     float64\n",
      " 20  visualizaciones                  123 non-null    float64\n",
      "dtypes: float64(8), int64(6), object(7)\n",
      "memory usage: 115.3+ KB\n"
     ]
    }
   ],
   "source": [
    "# Open the Dataset\n",
    "df_raw = pd.read_csv(\"datasets/extras/archivo_combinado.csv\")\n",
    "df_raw.info()"
   ]
  },
  {
   "cell_type": "code",
   "execution_count": 6,
   "metadata": {},
   "outputs": [
    {
     "name": "stdout",
     "output_type": "stream",
     "text": [
      "<class 'pandas.core.frame.DataFrame'>\n",
      "RangeIndex: 702 entries, 0 to 701\n",
      "Data columns (total 2 columns):\n",
      " #   Column                           Non-Null Count  Dtype \n",
      "---  ------                           --------------  ----- \n",
      " 0   identificador_de_la_publicacion  702 non-null    int64 \n",
      " 1   descripcion                      302 non-null    object\n",
      "dtypes: int64(1), object(1)\n",
      "memory usage: 11.1+ KB\n"
     ]
    }
   ],
   "source": [
    "# Create a Dataframe only with the id and description\n",
    "selected_columns = [\"identificador_de_la_publicacion\", \"descripcion\"]\n",
    "df_interim = df_raw[selected_columns]\n",
    "df_interim.info()"
   ]
  },
  {
   "cell_type": "code",
   "execution_count": 7,
   "metadata": {},
   "outputs": [
    {
     "name": "stdout",
     "output_type": "stream",
     "text": [
      "<class 'pandas.core.frame.DataFrame'>\n",
      "Index: 302 entries, 0 to 701\n",
      "Data columns (total 2 columns):\n",
      " #   Column                           Non-Null Count  Dtype \n",
      "---  ------                           --------------  ----- \n",
      " 0   identificador_de_la_publicacion  302 non-null    int64 \n",
      " 1   descripcion                      302 non-null    object\n",
      "dtypes: int64(1), object(1)\n",
      "memory usage: 7.1+ KB\n"
     ]
    }
   ],
   "source": [
    "# Remove rows with NaN\n",
    "df_interim = df_interim.dropna(subset=[\"descripcion\"])\n",
    "df_interim.info()\n"
   ]
  },
  {
   "cell_type": "code",
   "execution_count": 8,
   "metadata": {},
   "outputs": [
    {
     "name": "stdout",
     "output_type": "stream",
     "text": [
      "<class 'pandas.core.frame.DataFrame'>\n",
      "Index: 302 entries, 0 to 701\n",
      "Data columns (total 3 columns):\n",
      " #   Column                           Non-Null Count  Dtype \n",
      "---  ------                           --------------  ----- \n",
      " 0   identificador_de_la_publicacion  302 non-null    int64 \n",
      " 1   descripcion                      302 non-null    object\n",
      " 2   message_clean                    302 non-null    object\n",
      "dtypes: int64(1), object(2)\n",
      "memory usage: 9.4+ KB\n"
     ]
    }
   ],
   "source": [
    "# Clean data\n",
    "df_interim[\"message_clean\"] = df_interim[\"descripcion\"].apply(lambda x: remove_stopwords(x))\n",
    "df_interim[\"message_clean\"] = df_interim[\"message_clean\"].apply(lambda x: remove_symbols(x))\n",
    "df_interim[\"message_clean\"] = df_interim[\"message_clean\"].str.replace(\":\", \"\")\n",
    "df_interim[\"message_clean\"] = df_interim[\"message_clean\"].str.replace(\"!\", \"\")\n",
    "df_interim[\"message_clean\"] = df_interim[\"message_clean\"].str.replace(\"¡\", \"\")\n",
    "df_interim[\"message_clean\"] = df_interim[\"message_clean\"].str.replace(\"(\", \"\")\n",
    "df_interim[\"message_clean\"] = df_interim[\"message_clean\"].str.replace(\")\", \"\")\n",
    "df_interim.info()"
   ]
  },
  {
   "cell_type": "code",
   "execution_count": 9,
   "metadata": {},
   "outputs": [
    {
     "data": {
      "text/html": [
       "<div>\n",
       "<style scoped>\n",
       "    .dataframe tbody tr th:only-of-type {\n",
       "        vertical-align: middle;\n",
       "    }\n",
       "\n",
       "    .dataframe tbody tr th {\n",
       "        vertical-align: top;\n",
       "    }\n",
       "\n",
       "    .dataframe thead th {\n",
       "        text-align: right;\n",
       "    }\n",
       "</style>\n",
       "<table border=\"1\" class=\"dataframe\">\n",
       "  <thead>\n",
       "    <tr style=\"text-align: right;\">\n",
       "      <th></th>\n",
       "      <th>identificador_de_la_publicacion</th>\n",
       "      <th>descripcion</th>\n",
       "      <th>message_clean</th>\n",
       "    </tr>\n",
       "  </thead>\n",
       "  <tbody>\n",
       "    <tr>\n",
       "      <th>164</th>\n",
       "      <td>17878006919851859</td>\n",
       "      <td>Tengo ganas de estar \\nmás cerca de ti</td>\n",
       "      <td>ganas cerca</td>\n",
       "    </tr>\n",
       "    <tr>\n",
       "      <th>177</th>\n",
       "      <td>18253901530159555</td>\n",
       "      <td>Sueños despiertos</td>\n",
       "      <td>sueños despiertos</td>\n",
       "    </tr>\n",
       "    <tr>\n",
       "      <th>614</th>\n",
       "      <td>18455532748038607</td>\n",
       "      <td>¡No podía faltar \\nMi platillo \\nfavorito!</td>\n",
       "      <td>no podía faltar platillo favorito</td>\n",
       "    </tr>\n",
       "    <tr>\n",
       "      <th>660</th>\n",
       "      <td>18072687724546137</td>\n",
       "      <td>Buen inicio \\nde semana</td>\n",
       "      <td>buen inicio semana</td>\n",
       "    </tr>\n",
       "    <tr>\n",
       "      <th>265</th>\n",
       "      <td>18003645379797478</td>\n",
       "      <td>Logros en Youtube</td>\n",
       "      <td>logros youtube</td>\n",
       "    </tr>\n",
       "    <tr>\n",
       "      <th>256</th>\n",
       "      <td>17974825862419588</td>\n",
       "      <td>En camino a cumplir un sueño</td>\n",
       "      <td>camino cumplir sueño</td>\n",
       "    </tr>\n",
       "    <tr>\n",
       "      <th>641</th>\n",
       "      <td>18313632556093128</td>\n",
       "      <td>¡Hoy voy a probar \\nalgo nuevo! ¡Te cuento \\np...</td>\n",
       "      <td>hoy voy probar nuevo te cuento pronto cómo fue...</td>\n",
       "    </tr>\n",
       "    <tr>\n",
       "      <th>152</th>\n",
       "      <td>18248626282087562</td>\n",
       "      <td>Te extraño mucho amiga</td>\n",
       "      <td>extraño amiga</td>\n",
       "    </tr>\n",
       "    <tr>\n",
       "      <th>379</th>\n",
       "      <td>17933438987683652</td>\n",
       "      <td>¿Asistirías a un webinar GRATUITO sobre Sueños...</td>\n",
       "      <td>¿asistirías webinar gratuito sueños premonitorios</td>\n",
       "    </tr>\n",
       "    <tr>\n",
       "      <th>673</th>\n",
       "      <td>18050136700849085</td>\n",
       "      <td>Hoy agradezco ser mamá, aún con todo lo difíci...</td>\n",
       "      <td>hoy agradezco ser mamá aún difícil resulta vec...</td>\n",
       "    </tr>\n",
       "  </tbody>\n",
       "</table>\n",
       "</div>"
      ],
      "text/plain": [
       "     identificador_de_la_publicacion  \\\n",
       "164                17878006919851859   \n",
       "177                18253901530159555   \n",
       "614                18455532748038607   \n",
       "660                18072687724546137   \n",
       "265                18003645379797478   \n",
       "256                17974825862419588   \n",
       "641                18313632556093128   \n",
       "152                18248626282087562   \n",
       "379                17933438987683652   \n",
       "673                18050136700849085   \n",
       "\n",
       "                                           descripcion  \\\n",
       "164             Tengo ganas de estar \\nmás cerca de ti   \n",
       "177                                  Sueños despiertos   \n",
       "614         ¡No podía faltar \\nMi platillo \\nfavorito!   \n",
       "660                            Buen inicio \\nde semana   \n",
       "265                                  Logros en Youtube   \n",
       "256                       En camino a cumplir un sueño   \n",
       "641  ¡Hoy voy a probar \\nalgo nuevo! ¡Te cuento \\np...   \n",
       "152                             Te extraño mucho amiga   \n",
       "379  ¿Asistirías a un webinar GRATUITO sobre Sueños...   \n",
       "673  Hoy agradezco ser mamá, aún con todo lo difíci...   \n",
       "\n",
       "                                         message_clean  \n",
       "164                                        ganas cerca  \n",
       "177                                  sueños despiertos  \n",
       "614                  no podía faltar platillo favorito  \n",
       "660                                 buen inicio semana  \n",
       "265                                     logros youtube  \n",
       "256                               camino cumplir sueño  \n",
       "641  hoy voy probar nuevo te cuento pronto cómo fue...  \n",
       "152                                      extraño amiga  \n",
       "379  ¿asistirías webinar gratuito sueños premonitorios  \n",
       "673  hoy agradezco ser mamá aún difícil resulta vec...  "
      ]
     },
     "execution_count": 9,
     "metadata": {},
     "output_type": "execute_result"
    }
   ],
   "source": [
    "df_interim.sample(10)"
   ]
  },
  {
   "cell_type": "code",
   "execution_count": 10,
   "metadata": {},
   "outputs": [
    {
     "name": "stderr",
     "output_type": "stream",
     "text": [
      "/tmp/ipykernel_65433/1906041773.py:24: FutureWarning: A value is trying to be set on a copy of a DataFrame or Series through chained assignment using an inplace method.\n",
      "The behavior will change in pandas 3.0. This inplace method will never work because the intermediate object on which we are setting values always behaves as a copy.\n",
      "\n",
      "For example, when doing 'df[col].method(value, inplace=True)', try using 'df.method({col: value}, inplace=True)' or df[col] = df[col].method(value) instead, to perform the operation inplace on the original object.\n",
      "\n",
      "\n",
      "  df_actualizado['sentimiento'].fillna(-2, inplace=True)\n"
     ]
    }
   ],
   "source": [
    "import spacy\n",
    "\n",
    "# Carga el modelo preentrenado en español\n",
    "nlp = spacy.load(\"es_core_news_sm\")\n",
    "\n",
    "# Función para obtener el sentimiento de un texto\n",
    "def obtener_sentimiento(texto):\n",
    "    if isinstance(texto, str) and texto.strip():\n",
    "        doc = nlp(texto)\n",
    "        return doc.sentiment\n",
    "    else:\n",
    "        return -2\n",
    "\n",
    "# Cargar el DataFrame original desde el archivo CSV\n",
    "df_original = pd.read_csv('datasets/extras/archivo_combinado.csv')\n",
    "\n",
    "# Agregar la columna 'sentimiento' al df_interim\n",
    "df_interim['sentimiento'] = df_interim['message_clean'].apply(obtener_sentimiento)\n",
    "\n",
    "# Combinar el DataFrame original con el df_interim usando el Identificador de la publicación\n",
    "df_actualizado = df_original.merge(df_interim[['identificador_de_la_publicacion', 'sentimiento']], on='identificador_de_la_publicacion', how='left')\n",
    "\n",
    "# Asignar -2 a las publicaciones sin captions (donde el sentimiento es NaN)\n",
    "df_actualizado['sentimiento'].fillna(-2, inplace=True)\n",
    "\n",
    "\n",
    "\n"
   ]
  },
  {
   "cell_type": "code",
   "execution_count": 11,
   "metadata": {},
   "outputs": [
    {
     "name": "stdout",
     "output_type": "stream",
     "text": [
      "   identificador_de_la_publicacion  identificador_de_la_cuenta  \\\n",
      "0                17994711058627085           17841408055500202   \n",
      "1                17989247059674185           17841408055500202   \n",
      "2                17953813415188610           17841408055500202   \n",
      "3                17973503881980868           17841408055500202   \n",
      "4                17974040296969337           17841408055500202   \n",
      "\n",
      "  nombre_de_usuario_de_la_cuenta  \\\n",
      "0                    jessonirica   \n",
      "1                    jessonirica   \n",
      "2                    jessonirica   \n",
      "3                    jessonirica   \n",
      "4                    jessonirica   \n",
      "\n",
      "                                 nombre_de_la_cuenta  \\\n",
      "0  Jess Onírica | Sueños, creatividad, espiritual...   \n",
      "1  Jess Onírica | Sueños, creatividad, espiritual...   \n",
      "2  Jess Onírica | Sueños, creatividad, espiritual...   \n",
      "3  Jess Onírica | Sueños, creatividad, espiritual...   \n",
      "4  Jess Onírica | Sueños, creatividad, espiritual...   \n",
      "\n",
      "                              descripcion  duracion_segundos  \\\n",
      "0  En la recta final del Guadalupe -Reyes                  0   \n",
      "1                                     NaN                  0   \n",
      "2        Faltan 303 días \\npara Halloween                  0   \n",
      "3                            Para el frío                  0   \n",
      "4                                     NaN                 13   \n",
      "\n",
      "   hora_de_publicacion enlace_permanente    tipo_de_publicacion  \\\n",
      "0  2023-01-01 15:32:00               NaN  Historia de Instagram   \n",
      "1  2023-01-01 16:17:00               NaN  Historia de Instagram   \n",
      "2  2023-01-01 18:34:00               NaN  Historia de Instagram   \n",
      "3  2023-01-03 18:36:00               NaN  Historia de Instagram   \n",
      "4  2023-01-03 20:16:00               NaN  Historia de Instagram   \n",
      "\n",
      "   comentario_sobre_los_datos  ... me_gusta  veces_que_se_compartio  \\\n",
      "0                         NaN  ...        3                       0   \n",
      "1                         NaN  ...        4                       0   \n",
      "2                         NaN  ...        5                       0   \n",
      "3                         NaN  ...        7                       0   \n",
      "4                         NaN  ...        3                       0   \n",
      "\n",
      "   visitas_al_perfil  respuestas  navegacion  clics_en_el_enlace  \\\n",
      "0                NaN           0         NaN                 NaN   \n",
      "1                NaN           0         NaN                 NaN   \n",
      "2                NaN           0         NaN                 NaN   \n",
      "3                NaN           0         NaN                 NaN   \n",
      "4                NaN           0         NaN                 NaN   \n",
      "\n",
      "   seguimientos  toques_en_stickers  visualizaciones  sentimiento  \n",
      "0           NaN                 NaN              NaN          0.0  \n",
      "1           NaN                 NaN              NaN         -2.0  \n",
      "2           NaN                 NaN              NaN          0.0  \n",
      "3           NaN                 NaN              NaN          0.0  \n",
      "4           NaN                 NaN              NaN         -2.0  \n",
      "\n",
      "[5 rows x 22 columns]\n"
     ]
    }
   ],
   "source": [
    "# Eliminar las historias que son videos\n",
    "\n",
    "\n",
    "\n",
    "# Guardar el DataFrame actualizado en un nuevo archivo CSV\n",
    "df_actualizado.to_csv('datasets/extras/archivo_combinado_cleaned.csv', index=False)\n",
    "\n",
    "# Mostrar el DataFrame con la nueva columna de sentimiento\n",
    "print(df_actualizado.head())"
   ]
  }
 ],
 "metadata": {
  "kernelspec": {
   "display_name": ".venv",
   "language": "python",
   "name": "python3"
  },
  "language_info": {
   "codemirror_mode": {
    "name": "ipython",
    "version": 3
   },
   "file_extension": ".py",
   "mimetype": "text/x-python",
   "name": "python",
   "nbconvert_exporter": "python",
   "pygments_lexer": "ipython3",
   "version": "3.12.1"
  }
 },
 "nbformat": 4,
 "nbformat_minor": 2
}
