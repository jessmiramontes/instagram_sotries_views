{
 "cells": [
  {
   "cell_type": "markdown",
   "metadata": {},
   "source": [
    "aaa"
   ]
  },
  {
   "cell_type": "code",
   "execution_count": 1,
   "metadata": {},
   "outputs": [
    {
     "name": "stderr",
     "output_type": "stream",
     "text": [
      "[nltk_data] Downloading package stopwords to\n",
      "[nltk_data]     /home/codespace/nltk_data...\n",
      "[nltk_data]   Unzipping corpora/stopwords.zip.\n"
     ]
    }
   ],
   "source": [
    "import pandas as pd\n",
    "import numpy as np\n",
    "import matplotlib.pyplot as plt\n",
    "import seaborn as sns\n",
    "from sklearn.model_selection import train_test_split\n",
    "from sklearn.feature_extraction.text import (CountVectorizer, TfidfVectorizer)\n",
    "from sklearn.naive_bayes import (GaussianNB, MultinomialNB)\n",
    "import re \n",
    "import nltk \n",
    "from sklearn.metrics import (accuracy_score, ConfusionMatrixDisplay)\n",
    "from nltk.corpus import stopwords\n",
    "from nltk import ngrams\n",
    "nltk.download(\"stopwords\")\n",
    "stop_words = stopwords.words(\"spanish\") # stopwords palabras de relleno\n",
    "\n",
    "# Análisis de texto clásico ciertas palabras no añaden contexto y en base al resto de palabras podemos entender las relaciones que permitan hacer la clasficación\n",
    "# Función para quitar los stopwords del data frame\n",
    "def remove_stopwords(text):\n",
    "    clean_text = []\n",
    "    text = text.lower()\n",
    "    if text is not None:\n",
    "        words = text.split()\n",
    "        for word in words:\n",
    "            if word not in stop_words:\n",
    "                clean_text.append(word)\n",
    "        return \" \".join(clean_text)\n",
    "    else:\n",
    "        return None\n",
    "\n",
    "\n",
    "def remove_symbols(text):\n",
    "    if text is not None:\n",
    "        text = re.sub(r'''[.,?*&'\"+${}-]''','',text) # Sub sustituir \n",
    "        return text\n",
    "    else:\n",
    "        return None"
   ]
  },
  {
   "cell_type": "code",
   "execution_count": 2,
   "metadata": {},
   "outputs": [
    {
     "name": "stdout",
     "output_type": "stream",
     "text": [
      "<class 'pandas.core.frame.DataFrame'>\n",
      "RangeIndex: 702 entries, 0 to 701\n",
      "Data columns (total 21 columns):\n",
      " #   Column                           Non-Null Count  Dtype  \n",
      "---  ------                           --------------  -----  \n",
      " 0   Identificador de la publicación  702 non-null    int64  \n",
      " 1   Identificador de la cuenta       702 non-null    int64  \n",
      " 2   Nombre de usuario de la cuenta   702 non-null    object \n",
      " 3   Nombre de la cuenta              702 non-null    object \n",
      " 4   Descripción                      302 non-null    object \n",
      " 5   Duración (segundos)              702 non-null    int64  \n",
      " 6   Hora de publicación              702 non-null    object \n",
      " 7   Enlace permanente                13 non-null     object \n",
      " 8   Tipo de publicación              702 non-null    object \n",
      " 9   Comentario sobre los datos       0 non-null      float64\n",
      " 10  Fecha                            702 non-null    object \n",
      " 11  Alcance                          642 non-null    float64\n",
      " 12  Me gusta                         702 non-null    int64  \n",
      " 13  Veces que se compartió           702 non-null    int64  \n",
      " 14  Visitas al perfil                527 non-null    float64\n",
      " 15  Respuestas                       702 non-null    int64  \n",
      " 16  Navegación                       637 non-null    float64\n",
      " 17  Clics en el enlace               25 non-null     float64\n",
      " 18  Seguimientos                     24 non-null     float64\n",
      " 19  Toques en stickers               24 non-null     float64\n",
      " 20  Visualizaciones                  123 non-null    float64\n",
      "dtypes: float64(8), int64(6), object(7)\n",
      "memory usage: 115.3+ KB\n"
     ]
    }
   ],
   "source": [
    "# Open the Dataset\n",
    "df_raw = pd.read_csv(\"archivo_combinado.csv\")\n",
    "df_raw.info()"
   ]
  },
  {
   "cell_type": "code",
   "execution_count": 3,
   "metadata": {},
   "outputs": [
    {
     "name": "stdout",
     "output_type": "stream",
     "text": [
      "<class 'pandas.core.frame.DataFrame'>\n",
      "RangeIndex: 702 entries, 0 to 701\n",
      "Data columns (total 2 columns):\n",
      " #   Column                           Non-Null Count  Dtype \n",
      "---  ------                           --------------  ----- \n",
      " 0   Identificador de la publicación  702 non-null    int64 \n",
      " 1   Descripción                      302 non-null    object\n",
      "dtypes: int64(1), object(1)\n",
      "memory usage: 11.1+ KB\n"
     ]
    }
   ],
   "source": [
    "# Create a Dataframe only with the id and description\n",
    "selected_columns = [\"Identificador de la publicación\", \"Descripción\"]\n",
    "df_interim = df_raw[selected_columns]\n",
    "df_interim.info()"
   ]
  },
  {
   "cell_type": "code",
   "execution_count": 6,
   "metadata": {},
   "outputs": [
    {
     "name": "stdout",
     "output_type": "stream",
     "text": [
      "<class 'pandas.core.frame.DataFrame'>\n",
      "Index: 302 entries, 0 to 701\n",
      "Data columns (total 2 columns):\n",
      " #   Column                           Non-Null Count  Dtype \n",
      "---  ------                           --------------  ----- \n",
      " 0   Identificador de la publicación  302 non-null    int64 \n",
      " 1   Descripción                      302 non-null    object\n",
      "dtypes: int64(1), object(1)\n",
      "memory usage: 7.1+ KB\n"
     ]
    }
   ],
   "source": [
    "# Remove rows with NaN\n",
    "df_interim = df_interim.dropna(subset=[\"Descripción\"])\n",
    "df_interim.info()\n"
   ]
  },
  {
   "cell_type": "code",
   "execution_count": 9,
   "metadata": {},
   "outputs": [
    {
     "name": "stdout",
     "output_type": "stream",
     "text": [
      "<class 'pandas.core.frame.DataFrame'>\n",
      "Index: 302 entries, 0 to 701\n",
      "Data columns (total 3 columns):\n",
      " #   Column                           Non-Null Count  Dtype \n",
      "---  ------                           --------------  ----- \n",
      " 0   Identificador de la publicación  302 non-null    int64 \n",
      " 1   Descripción                      302 non-null    object\n",
      " 2   message_clean                    302 non-null    object\n",
      "dtypes: int64(1), object(2)\n",
      "memory usage: 9.4+ KB\n"
     ]
    }
   ],
   "source": [
    "# Clean data\n",
    "df_interim[\"message_clean\"] = df_interim[\"Descripción\"].apply(lambda x: remove_stopwords(x))\n",
    "df_interim[\"message_clean\"] = df_interim[\"message_clean\"].apply(lambda x: remove_symbols(x))\n",
    "df_interim[\"message_clean\"] = df_interim[\"message_clean\"].str.replace(\":\", \"\")\n",
    "df_interim[\"message_clean\"] = df_interim[\"message_clean\"].str.replace(\"!\", \"\")\n",
    "df_interim[\"message_clean\"] = df_interim[\"message_clean\"].str.replace(\"¡\", \"\")\n",
    "df_interim[\"message_clean\"] = df_interim[\"message_clean\"].str.replace(\"(\", \"\")\n",
    "df_interim[\"message_clean\"] = df_interim[\"message_clean\"].str.replace(\")\", \"\")\n",
    "df_interim.info()"
   ]
  },
  {
   "cell_type": "code",
   "execution_count": 10,
   "metadata": {},
   "outputs": [
    {
     "data": {
      "text/html": [
       "<div>\n",
       "<style scoped>\n",
       "    .dataframe tbody tr th:only-of-type {\n",
       "        vertical-align: middle;\n",
       "    }\n",
       "\n",
       "    .dataframe tbody tr th {\n",
       "        vertical-align: top;\n",
       "    }\n",
       "\n",
       "    .dataframe thead th {\n",
       "        text-align: right;\n",
       "    }\n",
       "</style>\n",
       "<table border=\"1\" class=\"dataframe\">\n",
       "  <thead>\n",
       "    <tr style=\"text-align: right;\">\n",
       "      <th></th>\n",
       "      <th>Identificador de la publicación</th>\n",
       "      <th>Descripción</th>\n",
       "      <th>message_clean</th>\n",
       "    </tr>\n",
       "  </thead>\n",
       "  <tbody>\n",
       "    <tr>\n",
       "      <th>413</th>\n",
       "      <td>18333787006124814</td>\n",
       "      <td>Todos los sueños tienen significado \\nMis sueños:</td>\n",
       "      <td>sueños significado sueños</td>\n",
       "    </tr>\n",
       "    <tr>\n",
       "      <th>575</th>\n",
       "      <td>18469601890008634</td>\n",
       "      <td>Hoy agradezco la oportunidad que tuve de asist...</td>\n",
       "      <td>hoy agradezco oportunidad asistir vidcon apren...</td>\n",
       "    </tr>\n",
       "    <tr>\n",
       "      <th>444</th>\n",
       "      <td>17936136686789609</td>\n",
       "      <td>El café te da energía; tus sueños te dan direc...</td>\n",
       "      <td>café da energía; sueños dan dirección despiert...</td>\n",
       "    </tr>\n",
       "    <tr>\n",
       "      <th>454</th>\n",
       "      <td>18313632556093128</td>\n",
       "      <td>¡Hoy voy a probar \\nalgo nuevo! ¡Te cuento \\np...</td>\n",
       "      <td>hoy voy probar nuevo te cuento pronto cómo fue...</td>\n",
       "    </tr>\n",
       "    <tr>\n",
       "      <th>401</th>\n",
       "      <td>18265333957300216</td>\n",
       "      <td>Cafecito en\\n#houseofinstagram</td>\n",
       "      <td>cafecito #houseofinstagram</td>\n",
       "    </tr>\n",
       "    <tr>\n",
       "      <th>559</th>\n",
       "      <td>18089224099490194</td>\n",
       "      <td>A punto de comenzar entrenamiento presencial p...</td>\n",
       "      <td>punto comenzar entrenamiento presencial @ekrme...</td>\n",
       "    </tr>\n",
       "    <tr>\n",
       "      <th>464</th>\n",
       "      <td>17979505067082348</td>\n",
       "      <td>Cuando la vida es un sueño</td>\n",
       "      <td>vida sueño</td>\n",
       "    </tr>\n",
       "    <tr>\n",
       "      <th>90</th>\n",
       "      <td>18272236114082552</td>\n",
       "      <td>Está bien bonito 😻</td>\n",
       "      <td>bien bonito 😻</td>\n",
       "    </tr>\n",
       "    <tr>\n",
       "      <th>348</th>\n",
       "      <td>18059875228340678</td>\n",
       "      <td>¡Ya casi empieza!</td>\n",
       "      <td>ya casi empieza</td>\n",
       "    </tr>\n",
       "    <tr>\n",
       "      <th>604</th>\n",
       "      <td>17893072272017102</td>\n",
       "      <td>¡Mañana voy\\nA hacer un live!</td>\n",
       "      <td>mañana voy hacer live</td>\n",
       "    </tr>\n",
       "  </tbody>\n",
       "</table>\n",
       "</div>"
      ],
      "text/plain": [
       "     Identificador de la publicación  \\\n",
       "413                18333787006124814   \n",
       "575                18469601890008634   \n",
       "444                17936136686789609   \n",
       "454                18313632556093128   \n",
       "401                18265333957300216   \n",
       "559                18089224099490194   \n",
       "464                17979505067082348   \n",
       "90                 18272236114082552   \n",
       "348                18059875228340678   \n",
       "604                17893072272017102   \n",
       "\n",
       "                                           Descripción  \\\n",
       "413  Todos los sueños tienen significado \\nMis sueños:   \n",
       "575  Hoy agradezco la oportunidad que tuve de asist...   \n",
       "444  El café te da energía; tus sueños te dan direc...   \n",
       "454  ¡Hoy voy a probar \\nalgo nuevo! ¡Te cuento \\np...   \n",
       "401                     Cafecito en\\n#houseofinstagram   \n",
       "559  A punto de comenzar entrenamiento presencial p...   \n",
       "464                         Cuando la vida es un sueño   \n",
       "90                                  Está bien bonito 😻   \n",
       "348                                  ¡Ya casi empieza!   \n",
       "604                      ¡Mañana voy\\nA hacer un live!   \n",
       "\n",
       "                                         message_clean  \n",
       "413                          sueños significado sueños  \n",
       "575  hoy agradezco oportunidad asistir vidcon apren...  \n",
       "444  café da energía; sueños dan dirección despiert...  \n",
       "454  hoy voy probar nuevo te cuento pronto cómo fue...  \n",
       "401                         cafecito #houseofinstagram  \n",
       "559  punto comenzar entrenamiento presencial @ekrme...  \n",
       "464                                         vida sueño  \n",
       "90                                       bien bonito 😻  \n",
       "348                                    ya casi empieza  \n",
       "604                              mañana voy hacer live  "
      ]
     },
     "execution_count": 10,
     "metadata": {},
     "output_type": "execute_result"
    }
   ],
   "source": [
    "df_interim.sample(10)"
   ]
  },
  {
   "cell_type": "code",
   "execution_count": 11,
   "metadata": {},
   "outputs": [
    {
     "name": "stdout",
     "output_type": "stream",
     "text": [
      "    Identificador de la publicación  \\\n",
      "0                 18003913832026677   \n",
      "2                 17943046658757431   \n",
      "4                 18112602532344424   \n",
      "12                18077532931430567   \n",
      "13                18092816236380356   \n",
      "\n",
      "                                          Descripción  \\\n",
      "0                ¡Feliz día\\nInternacional del\\nCafé!   \n",
      "2              También tu haces mi vida muy feliz 😀❤️   \n",
      "4   ¿Quieres recibir un ritual para incubar un sue...   \n",
      "12                          Está más peinada que yo 😂   \n",
      "13      Al curso intensivo \"Soñando el futuro juntos\"   \n",
      "\n",
      "                                      message_clean  sentimiento  \n",
      "0                      feliz día internacional café          0.0  \n",
      "2                              haces vida feliz 😀❤️          0.0  \n",
      "4   ¿quieres recibir ritual incubar sueño guíe 2024          0.0  \n",
      "12                                        peinada 😂          0.0  \n",
      "13            curso intensivo soñando futuro juntos          0.0  \n"
     ]
    }
   ],
   "source": [
    "import spacy\n",
    "\n",
    "# Carga el modelo preentrenado en español\n",
    "nlp = spacy.load(\"es_core_news_sm\")\n",
    "\n",
    "# Función para obtener el sentimiento de un texto\n",
    "def obtener_sentimiento(texto):\n",
    "    doc = nlp(texto)\n",
    "    return doc.sentiment\n",
    "\n",
    "# Supongamos que df_interim es tu DataFrame con la columna \"message_clean\"\n",
    "df_interim['sentimiento'] = df_interim['message_clean'].apply(lambda x: obtener_sentimiento(x) if isinstance(x, str) else None)\n",
    "\n",
    "# Mostrar el DataFrame con la nueva columna de sentimiento\n",
    "print(df_interim.head())\n"
   ]
  }
 ],
 "metadata": {
  "kernelspec": {
   "display_name": ".venv",
   "language": "python",
   "name": "python3"
  },
  "language_info": {
   "codemirror_mode": {
    "name": "ipython",
    "version": 3
   },
   "file_extension": ".py",
   "mimetype": "text/x-python",
   "name": "python",
   "nbconvert_exporter": "python",
   "pygments_lexer": "ipython3",
   "version": "3.12.1"
  }
 },
 "nbformat": 4,
 "nbformat_minor": 2
}
