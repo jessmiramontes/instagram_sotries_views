{
 "cells": [
  {
   "cell_type": "markdown",
   "metadata": {},
   "source": [
    "## This program will combine multiple csv obtained from Meta Analytics into one and then combine it with the Image Dataset ##"
   ]
  },
  {
   "cell_type": "code",
   "execution_count": 3,
   "metadata": {},
   "outputs": [],
   "source": [
    "import pandas as pd\n",
    "import numpy as np\n",
    "import matplotlib.pyplot as plt\n",
    "import glob"
   ]
  },
  {
   "cell_type": "code",
   "execution_count": 5,
   "metadata": {},
   "outputs": [],
   "source": [
    "# Especifica la carpeta que contiene los archivos CSV\n",
    "folder_path = 'datasets/'\n",
    "\n",
    "# Usa glob para encontrar todos los archivos CSV en la carpeta especificada\n",
    "file_list = glob.glob(folder_path + '*.csv')\n",
    "\n",
    "# Crea una lista de dataframes a partir de los archivos CSV\n",
    "dfs = [pd.read_csv(file) for file in file_list]\n",
    "\n",
    "# Combina todos los dataframes usando outer join para conservar todas las columnas\n",
    "combined_df = pd.concat(dfs, ignore_index=True, sort=False)\n",
    "\n",
    "# Rellena las celdas vacías con NaN\n",
    "combined_df.fillna(pd.NA, inplace=True)\n",
    "\n",
    "# Convierte todas las columnas a tipo str (cadena de texto)\n",
    "combined_df = combined_df.astype(str)\n",
    "\n",
    "# Guarda el dataframe combinado en un nuevo archivo CSV\n",
    "combined_df.to_csv('archivo_combinado.csv', index=False)\n"
   ]
  }
 ],
 "metadata": {
  "kernelspec": {
   "display_name": ".venv",
   "language": "python",
   "name": "python3"
  },
  "language_info": {
   "codemirror_mode": {
    "name": "ipython",
    "version": 3
   },
   "file_extension": ".py",
   "mimetype": "text/x-python",
   "name": "python",
   "nbconvert_exporter": "python",
   "pygments_lexer": "ipython3",
   "version": "3.12.1"
  }
 },
 "nbformat": 4,
 "nbformat_minor": 2
}
